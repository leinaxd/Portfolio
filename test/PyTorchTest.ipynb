{
  "nbformat": 4,
  "nbformat_minor": 0,
  "metadata": {
    "colab": {
      "provenance": [],
      "gpuType": "T4",
      "authorship_tag": "ABX9TyPdrTqaJFNiTFbgOpqJca1e",
      "include_colab_link": true
    },
    "kernelspec": {
      "name": "python3",
      "display_name": "Python 3"
    },
    "language_info": {
      "name": "python"
    },
    "accelerator": "GPU",
    "gpuClass": "standard"
  },
  "cells": [
    {
      "cell_type": "markdown",
      "metadata": {
        "id": "view-in-github",
        "colab_type": "text"
      },
      "source": [
        "<a href=\"https://colab.research.google.com/github/leinaxd/Portfolio_Colab/blob/main/test/PyTorchTest.ipynb\" target=\"_parent\"><img src=\"https://colab.research.google.com/assets/colab-badge.svg\" alt=\"Open In Colab\"/></a>"
      ]
    },
    {
      "cell_type": "code",
      "execution_count": null,
      "metadata": {
        "id": "M1wVt3LOJffg"
      },
      "outputs": [],
      "source": [
        "import torch\n",
        "size = 1_000_000_000\n",
        "x = torch.ones(size, device='cuda')"
      ]
    },
    {
      "cell_type": "code",
      "source": [
        "# del x\n",
        "del y"
      ],
      "metadata": {
        "id": "gopDP2gYKQwh"
      },
      "execution_count": null,
      "outputs": []
    },
    {
      "cell_type": "code",
      "source": [
        "y = torch.ones(size, device='cpu')"
      ],
      "metadata": {
        "id": "BbB657VpMF4M"
      },
      "execution_count": null,
      "outputs": []
    },
    {
      "cell_type": "code",
      "source": [
        "torch.cuda.empty_cache()"
      ],
      "metadata": {
        "id": "R2mXK_DtMrkD"
      },
      "execution_count": null,
      "outputs": []
    }
  ]
}