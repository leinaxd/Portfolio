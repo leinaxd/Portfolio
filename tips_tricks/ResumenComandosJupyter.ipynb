{
  "nbformat": 4,
  "nbformat_minor": 0,
  "metadata": {
    "colab": {
      "name": "ResumenComandosJupyter.ipynb",
      "provenance": [],
      "collapsed_sections": [],
      "authorship_tag": "ABX9TyPX2FvygT3kkxzzlbI9Twng",
      "include_colab_link": true
    },
    "kernelspec": {
      "name": "python3",
      "display_name": "Python 3"
    },
    "language_info": {
      "name": "python"
    }
  },
  "cells": [
    {
      "cell_type": "markdown",
      "metadata": {
        "id": "view-in-github",
        "colab_type": "text"
      },
      "source": [
        "<a href=\"https://colab.research.google.com/github/leinaxd/ejColab/blob/main/ResumenComandosJupyter.ipynb\" target=\"_parent\"><img src=\"https://colab.research.google.com/assets/colab-badge.svg\" alt=\"Open In Colab\"/></a>"
      ]
    },
    {
      "cell_type": "markdown",
      "metadata": {
        "id": "9w5Tzp97VTWp"
      },
      "source": [
        "#Resumen de comandos Jupyther\n",
        "(Sincronizado con GitHub)\n",
        "---\n"
      ]
    },
    {
      "cell_type": "markdown",
      "metadata": {
        "id": "92fET_3CTnTX"
      },
      "source": [
        "#Python"
      ]
    },
    {
      "cell_type": "code",
      "metadata": {
        "id": "YqpX5wxcMTup"
      },
      "source": [
        "import numpy as np"
      ],
      "execution_count": 2,
      "outputs": []
    },
    {
      "cell_type": "code",
      "metadata": {
        "colab": {
          "base_uri": "https://localhost:8080/"
        },
        "id": "ldYsadyqMd_y",
        "outputId": "1ae37c02-5d31-48da-fd46-9a19fd62e58d"
      },
      "source": [
        "a = np.array([[1,4],[2,5]])\n",
        "print (a**2+1)"
      ],
      "execution_count": 3,
      "outputs": [
        {
          "output_type": "stream",
          "text": [
            "[[ 2 17]\n",
            " [ 5 26]]\n"
          ],
          "name": "stdout"
        }
      ]
    },
    {
      "cell_type": "markdown",
      "metadata": {
        "id": "QBQTXW9GV9yA"
      },
      "source": [
        "---\n",
        "#Introducción a Markdown."
      ]
    },
    {
      "cell_type": "markdown",
      "metadata": {
        "id": "zHlxmFVGNZxM"
      },
      "source": [
        "· Se trata de un ejemplo para probar que tipos de textos se consiguen\n",
        "```\n",
        "# Esto tiene formato de código\n",
        "```\n",
        "First column name  | Second column name \n",
        "-------------------|------------------\n",
        "Row 1, Col 1       | Row 1, Col 2 \n",
        "Row 2, Col 1       | Row 2, Col 2 \n"
      ]
    },
    {
      "cell_type": "markdown",
      "metadata": {
        "id": "wf1GPufCO8wu"
      },
      "source": [
        "---\n",
        "#Comandos HTML/CSS"
      ]
    },
    {
      "cell_type": "markdown",
      "metadata": {
        "id": "w6HN9uMjV4jA"
      },
      "source": [
        "<font color=\"blue\">some *blue* text</font>.\n",
        "foo <font color='red'>bar</font> foo"
      ]
    },
    {
      "cell_type": "markdown",
      "metadata": {
        "id": "WLxTt_y3Vx1h"
      },
      "source": [
        "---\n",
        "#Comandos Latex."
      ]
    },
    {
      "cell_type": "markdown",
      "metadata": {
        "id": "u0XyR7jgP_fm"
      },
      "source": [
        "$\\color{red}4$\n",
        "$\\color{blue}{\\text{hola}}$\n",
        "$$\\int_{0}^{\\infty} {f(x) dx}$$\n",
        "$separado~por~tildes,~Sin separar por tildes$\n",
        "$$A_{m,n} =\n",
        " \\begin{pmatrix}\n",
        "  a_{1,1} & a_{1,2} & \\cdots & a_{1,n} \\\\\n",
        "  a_{2,1} & a_{2,2} & \\cdots & a_{2,n} \\\\\n",
        "  \\vdots  & \\vdots  & \\ddots & \\vdots  \\\\\n",
        "  a_{m,1} & a_{m,2} & \\cdots & a_{m,n}\n",
        " \\end{pmatrix}$$\n",
        "\n",
        " \n"
      ]
    }
  ]
}
