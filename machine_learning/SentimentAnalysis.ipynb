{
  "cells": [
    {
      "cell_type": "markdown",
      "metadata": {
        "id": "view-in-github",
        "colab_type": "text"
      },
      "source": [
        "<a href=\"https://colab.research.google.com/github/leinaxd/Portfolio_Colab/blob/main/machine_learning/SentimentAnalysis.ipynb\" target=\"_parent\"><img src=\"https://colab.research.google.com/assets/colab-badge.svg\" alt=\"Open In Colab\"/></a>"
      ]
    },
    {
      "cell_type": "markdown",
      "source": [
        "**Obs.** Ir a Herramientas -> combinación de teclas -> Elegir una tecla para **\"Mostrar/Ocultar código\"** y tocarlo en una celda con \"@param\""
      ],
      "metadata": {
        "id": "D4X9ItMZOgty"
      }
    },
    {
      "cell_type": "markdown",
      "source": [
        "# Tutorial de PySentimiento"
      ],
      "metadata": {
        "id": "Xm4oJAd9Jj1q"
      }
    },
    {
      "cell_type": "markdown",
      "source": [
        "sources\n",
        "\n",
        "  [Hugging Face, BETO pysentimento](https://huggingface.co/finiteautomata/beto-sentiment-analysis?text=Te+quiero.+Te+amo.)\n",
        "\n",
        "  [pysentimento Benchmarks](https://github.com/pysentimiento/pysentimiento/blob/master/CLASSIFIERS.md)"
      ],
      "metadata": {
        "id": "mZhCrCPiIPxy"
      }
    },
    {
      "cell_type": "code",
      "source": [
        "# %%capture #Descomentar para no ver mucho texto\n",
        "\n",
        "!pip install pysentimiento\n",
        "import pysentimiento"
      ],
      "metadata": {
        "id": "33dRBZyRLfk4"
      },
      "execution_count": null,
      "outputs": []
    },
    {
      "cell_type": "markdown",
      "source": [
        "## PARTE 1: Funcionamiento PySentimiento"
      ],
      "metadata": {
        "id": "MumnpknxLhB9"
      }
    },
    {
      "cell_type": "code",
      "source": [
        "lang = \"es\" #@param [\"es\",\"en\"]\n",
        "task = \"sentiment\" #@param [\"sentiment\",\"emotion\",\"hate_speech\",\"ner\",\"pos\"]\n",
        "\n",
        "from pysentimiento import create_analyzer\n",
        "analyzer = create_analyzer(task, lang)\n"
      ],
      "metadata": {
        "id": "fwNixNCJLL_Z"
      },
      "execution_count": null,
      "outputs": []
    },
    {
      "cell_type": "code",
      "source": [
        "texto = \"Qu\\xE9 gran jugador es Messi\" #@param [\"Qué gran jugador es Messi\",\"Esto es pésimo\",\"Qué es esto?\",\"jejeje no te creo mucho\"] {allow-input: true}\n",
        "out   = analyzer.predict(texto)\n",
        "print(out,'\\n'+'='*100)\n",
        "print(out.output)\n",
        "print(out.probas)"
      ],
      "metadata": {
        "id": "s8ZPH-SVOTFZ",
        "colab": {
          "base_uri": "https://localhost:8080/"
        },
        "outputId": "36217e8a-0bce-4a18-995d-6f89a480bc8a"
      },
      "execution_count": null,
      "outputs": [
        {
          "output_type": "stream",
          "name": "stdout",
          "text": [
            "AnalyzerOutput(output=POS, probas={POS: 0.994, NEG: 0.003, NEU: 0.003}) \n",
            "====================================================================================================\n",
            "POS\n",
            "{'NEG': 0.0029470971785485744, 'NEU': 0.0027645560912787914, 'POS': 0.9942883253097534}\n"
          ]
        }
      ]
    },
    {
      "cell_type": "markdown",
      "source": [
        "## PARTE 2: Analizar un dataset"
      ],
      "metadata": {
        "id": "mKA28spEL1PJ"
      }
    },
    {
      "cell_type": "code",
      "source": [
        "%%capture\n",
        "!pip install pysentimiento\n",
        "import pysentimiento\n",
        "lang = \"es\" #@param [\"es\",\"en\"]\n",
        "task = \"emotion\" #@param [\"sentiment\",\"emotion\",\"hate_speech\",\"ner\",\"pos\"]\n",
        "\n",
        "from pysentimiento import create_analyzer\n",
        "analyzer = create_analyzer(task, lang)"
      ],
      "metadata": {
        "id": "aF-2PWUNsNRG"
      },
      "execution_count": null,
      "outputs": []
    },
    {
      "cell_type": "code",
      "source": [
        "assert task == 'emotion', f\"Please rerun with task = emotion\"\n",
        "from google.colab import files\n",
        "import pandas as pd\n",
        "import io\n",
        "# 1. Upload dataset\n",
        "dataset = files.upload()\n",
        "\n",
        "# 2. Convierto .csv a pandas (dataframe)\n",
        "dataset = dataset.popitem()[-1] #discard the filename\n",
        "dataset = dataset.decode('utf-8')\n",
        "dataset = pd.read_csv(io.StringIO(dataset))\n",
        "\n",
        "# 4. Defino la entrada y la salida del modelo\n",
        "srcField = 'clean_transcripcion' #@param {type:'string'}\n",
        "tgtField = 'Grupo' #@param {type:\"string\"}"
      ],
      "metadata": {
        "id": "ZVzyru2Qrp1F",
        "colab": {
          "base_uri": "https://localhost:8080/",
          "height": 75
        },
        "outputId": "e7a8916e-76f2-434e-f0e2-9029137e994c"
      },
      "execution_count": null,
      "outputs": [
        {
          "output_type": "display_data",
          "data": {
            "text/plain": [
              "<IPython.core.display.HTML object>"
            ],
            "text/html": [
              "\n",
              "     <input type=\"file\" id=\"files-1f7fd07a-9797-4a19-bb0e-8c551ee01ca5\" name=\"files[]\" multiple disabled\n",
              "        style=\"border:none\" />\n",
              "     <output id=\"result-1f7fd07a-9797-4a19-bb0e-8c551ee01ca5\">\n",
              "      Upload widget is only available when the cell has been executed in the\n",
              "      current browser session. Please rerun this cell to enable.\n",
              "      </output>\n",
              "      <script>// Copyright 2017 Google LLC\n",
              "//\n",
              "// Licensed under the Apache License, Version 2.0 (the \"License\");\n",
              "// you may not use this file except in compliance with the License.\n",
              "// You may obtain a copy of the License at\n",
              "//\n",
              "//      http://www.apache.org/licenses/LICENSE-2.0\n",
              "//\n",
              "// Unless required by applicable law or agreed to in writing, software\n",
              "// distributed under the License is distributed on an \"AS IS\" BASIS,\n",
              "// WITHOUT WARRANTIES OR CONDITIONS OF ANY KIND, either express or implied.\n",
              "// See the License for the specific language governing permissions and\n",
              "// limitations under the License.\n",
              "\n",
              "/**\n",
              " * @fileoverview Helpers for google.colab Python module.\n",
              " */\n",
              "(function(scope) {\n",
              "function span(text, styleAttributes = {}) {\n",
              "  const element = document.createElement('span');\n",
              "  element.textContent = text;\n",
              "  for (const key of Object.keys(styleAttributes)) {\n",
              "    element.style[key] = styleAttributes[key];\n",
              "  }\n",
              "  return element;\n",
              "}\n",
              "\n",
              "// Max number of bytes which will be uploaded at a time.\n",
              "const MAX_PAYLOAD_SIZE = 100 * 1024;\n",
              "\n",
              "function _uploadFiles(inputId, outputId) {\n",
              "  const steps = uploadFilesStep(inputId, outputId);\n",
              "  const outputElement = document.getElementById(outputId);\n",
              "  // Cache steps on the outputElement to make it available for the next call\n",
              "  // to uploadFilesContinue from Python.\n",
              "  outputElement.steps = steps;\n",
              "\n",
              "  return _uploadFilesContinue(outputId);\n",
              "}\n",
              "\n",
              "// This is roughly an async generator (not supported in the browser yet),\n",
              "// where there are multiple asynchronous steps and the Python side is going\n",
              "// to poll for completion of each step.\n",
              "// This uses a Promise to block the python side on completion of each step,\n",
              "// then passes the result of the previous step as the input to the next step.\n",
              "function _uploadFilesContinue(outputId) {\n",
              "  const outputElement = document.getElementById(outputId);\n",
              "  const steps = outputElement.steps;\n",
              "\n",
              "  const next = steps.next(outputElement.lastPromiseValue);\n",
              "  return Promise.resolve(next.value.promise).then((value) => {\n",
              "    // Cache the last promise value to make it available to the next\n",
              "    // step of the generator.\n",
              "    outputElement.lastPromiseValue = value;\n",
              "    return next.value.response;\n",
              "  });\n",
              "}\n",
              "\n",
              "/**\n",
              " * Generator function which is called between each async step of the upload\n",
              " * process.\n",
              " * @param {string} inputId Element ID of the input file picker element.\n",
              " * @param {string} outputId Element ID of the output display.\n",
              " * @return {!Iterable<!Object>} Iterable of next steps.\n",
              " */\n",
              "function* uploadFilesStep(inputId, outputId) {\n",
              "  const inputElement = document.getElementById(inputId);\n",
              "  inputElement.disabled = false;\n",
              "\n",
              "  const outputElement = document.getElementById(outputId);\n",
              "  outputElement.innerHTML = '';\n",
              "\n",
              "  const pickedPromise = new Promise((resolve) => {\n",
              "    inputElement.addEventListener('change', (e) => {\n",
              "      resolve(e.target.files);\n",
              "    });\n",
              "  });\n",
              "\n",
              "  const cancel = document.createElement('button');\n",
              "  inputElement.parentElement.appendChild(cancel);\n",
              "  cancel.textContent = 'Cancel upload';\n",
              "  const cancelPromise = new Promise((resolve) => {\n",
              "    cancel.onclick = () => {\n",
              "      resolve(null);\n",
              "    };\n",
              "  });\n",
              "\n",
              "  // Wait for the user to pick the files.\n",
              "  const files = yield {\n",
              "    promise: Promise.race([pickedPromise, cancelPromise]),\n",
              "    response: {\n",
              "      action: 'starting',\n",
              "    }\n",
              "  };\n",
              "\n",
              "  cancel.remove();\n",
              "\n",
              "  // Disable the input element since further picks are not allowed.\n",
              "  inputElement.disabled = true;\n",
              "\n",
              "  if (!files) {\n",
              "    return {\n",
              "      response: {\n",
              "        action: 'complete',\n",
              "      }\n",
              "    };\n",
              "  }\n",
              "\n",
              "  for (const file of files) {\n",
              "    const li = document.createElement('li');\n",
              "    li.append(span(file.name, {fontWeight: 'bold'}));\n",
              "    li.append(span(\n",
              "        `(${file.type || 'n/a'}) - ${file.size} bytes, ` +\n",
              "        `last modified: ${\n",
              "            file.lastModifiedDate ? file.lastModifiedDate.toLocaleDateString() :\n",
              "                                    'n/a'} - `));\n",
              "    const percent = span('0% done');\n",
              "    li.appendChild(percent);\n",
              "\n",
              "    outputElement.appendChild(li);\n",
              "\n",
              "    const fileDataPromise = new Promise((resolve) => {\n",
              "      const reader = new FileReader();\n",
              "      reader.onload = (e) => {\n",
              "        resolve(e.target.result);\n",
              "      };\n",
              "      reader.readAsArrayBuffer(file);\n",
              "    });\n",
              "    // Wait for the data to be ready.\n",
              "    let fileData = yield {\n",
              "      promise: fileDataPromise,\n",
              "      response: {\n",
              "        action: 'continue',\n",
              "      }\n",
              "    };\n",
              "\n",
              "    // Use a chunked sending to avoid message size limits. See b/62115660.\n",
              "    let position = 0;\n",
              "    do {\n",
              "      const length = Math.min(fileData.byteLength - position, MAX_PAYLOAD_SIZE);\n",
              "      const chunk = new Uint8Array(fileData, position, length);\n",
              "      position += length;\n",
              "\n",
              "      const base64 = btoa(String.fromCharCode.apply(null, chunk));\n",
              "      yield {\n",
              "        response: {\n",
              "          action: 'append',\n",
              "          file: file.name,\n",
              "          data: base64,\n",
              "        },\n",
              "      };\n",
              "\n",
              "      let percentDone = fileData.byteLength === 0 ?\n",
              "          100 :\n",
              "          Math.round((position / fileData.byteLength) * 100);\n",
              "      percent.textContent = `${percentDone}% done`;\n",
              "\n",
              "    } while (position < fileData.byteLength);\n",
              "  }\n",
              "\n",
              "  // All done.\n",
              "  yield {\n",
              "    response: {\n",
              "      action: 'complete',\n",
              "    }\n",
              "  };\n",
              "}\n",
              "\n",
              "scope.google = scope.google || {};\n",
              "scope.google.colab = scope.google.colab || {};\n",
              "scope.google.colab._files = {\n",
              "  _uploadFiles,\n",
              "  _uploadFilesContinue,\n",
              "};\n",
              "})(self);\n",
              "</script> "
            ]
          },
          "metadata": {}
        },
        {
          "output_type": "stream",
          "name": "stdout",
          "text": [
            "Saving result_colombia_chile_2022-07-20.csv to result_colombia_chile_2022-07-20 (4).csv\n"
          ]
        }
      ]
    },
    {
      "cell_type": "code",
      "source": [
        "train_dataset = dataset #@markdown TODO: split the dataset."
      ],
      "metadata": {
        "id": "KXF4RyvmPUSa"
      },
      "execution_count": null,
      "outputs": []
    },
    {
      "cell_type": "code",
      "source": [
        "#@markdown analyze dataset\n",
        "import pandas as pd\n",
        "all_features = ['sadness','anger','surprise','fear','disgust','joy','others']\n",
        "\n",
        "#Compute predictions for each sample\n",
        "emotions = {k:[] for k in all_features} \n",
        "for sample in train_dataset[srcField]:\n",
        "  pred = analyzer.predict(sample).probas\n",
        "  for key, val in emotions.items():\n",
        "    val.append(pred[key])\n",
        "\n",
        "#Include emotions as new cols in the dataset\n",
        "emotions = pd.DataFrame(emotions)\n",
        "print(emotions)\n",
        "train_dataset = pd.concat((train_dataset, emotions), axis=1)"
      ],
      "metadata": {
        "colab": {
          "base_uri": "https://localhost:8080/"
        },
        "id": "vGMLEkTxQTR4",
        "outputId": "54ca4500-b98b-48c3-a3f1-82d97d415747"
      },
      "execution_count": null,
      "outputs": [
        {
          "output_type": "stream",
          "name": "stdout",
          "text": [
            "     sadness     anger  surprise      fear   disgust       joy    others\n",
            "0   0.002525  0.006190  0.012640  0.001520  0.002161  0.019174  0.955789\n",
            "1   0.002230  0.002780  0.017614  0.001712  0.001695  0.204762  0.769208\n",
            "2   0.004143  0.002199  0.009093  0.000968  0.001279  0.086426  0.895892\n",
            "3   0.004164  0.008376  0.004107  0.002452  0.002624  0.018715  0.959561\n",
            "4   0.006031  0.001878  0.007501  0.000701  0.001407  0.820138  0.162343\n",
            "..       ...       ...       ...       ...       ...       ...       ...\n",
            "58  0.004770  0.005866  0.014381  0.002624  0.003536  0.232651  0.736173\n",
            "59  0.006616  0.002790  0.010828  0.001783  0.001529  0.090824  0.885631\n",
            "60  0.006447  0.003583  0.006492  0.000870  0.001519  0.156929  0.824160\n",
            "61  0.005981  0.002563  0.010884  0.001123  0.002047  0.592174  0.385228\n",
            "62  0.004423  0.002384  0.009188  0.001214  0.001189  0.191865  0.789738\n",
            "\n",
            "[63 rows x 7 columns]\n"
          ]
        }
      ]
    },
    {
      "cell_type": "code",
      "source": [
        "#@markdown **PLOT**\n",
        "group = \"AD\"   #@param ['AD','FTDbv']\n",
        "\n",
        "CTR = train_dataset[train_dataset[tgtField]=='CTR']\n",
        "AD  = train_dataset[train_dataset[tgtField]==group]\n",
        "#@markdown PCA will ignore this values\n",
        "feature_1 = 'disgust' #@param ['sadness','anger','surprise','fear','disgust','joy','others']\n",
        "feature_2 = 'others' #@param ['sadness','anger','surprise','fear','disgust','joy','others']\n",
        "assert feature_1 != feature_2, \"features must be diferents\"\n",
        "PCA = False #@param {type:\"boolean\"}\n",
        "show_means = True #@param {type:\"boolean\"}\n",
        "#===========================================\n",
        "\n",
        "if PCA:\n",
        "  from sklearn.decomposition import PCA\n",
        "  pca = PCA(n_components=2)\n",
        "\n",
        "  x_CTR,y_CTR = pca.fit(CTR[all_features]).components_\n",
        "  x_AD,y_AD = pca.fit(AD[all_features]).components_\n",
        "else:\n",
        "  _CTR = CTR[[feature_1,feature_2]]\n",
        "  _AD  = AD[[feature_1,feature_2]]\n",
        "  x_CTR,y_CTR = _CTR[feature_1],_CTR[feature_2]\n",
        "  x_AD,y_AD = _AD[feature_1],_AD[feature_2]\n",
        "#===========================================\n",
        "import matplotlib.pyplot as plt\n",
        "plt.style.use('dark_background')\n",
        "plt.plot(x_CTR,y_CTR,'or',label='CTR')\n",
        "plt.plot(x_AD,y_AD,'og',label=group)\n",
        "\n",
        "plt.xlabel('f1: '+feature_1)\n",
        "plt.ylabel('f2: '+feature_2)\n",
        "plt.legend();\n",
        "#===========================================\n",
        "if show_means:\n",
        "  import numpy as np\n",
        "  print('CTR:')\n",
        "  for feature in all_features:\n",
        "    print(f\"\\t{feature}: {np.mean(CTR[feature])}\")\n",
        "  print(f\"{group}:\")\n",
        "  for feature in all_features:\n",
        "    print(f\"\\t{feature}: {np.mean(AD[feature])}\")"
      ],
      "metadata": {
        "id": "5mjUefeXSWVD",
        "colab": {
          "base_uri": "https://localhost:8080/",
          "height": 585
        },
        "outputId": "cb6ebd99-d4d7-4da0-ff2c-c918b25b724f",
        "cellView": "form"
      },
      "execution_count": null,
      "outputs": [
        {
          "output_type": "stream",
          "name": "stdout",
          "text": [
            "CTR:\n",
            "\tsadness: 0.004661307115817354\n",
            "\tanger: 0.003907568858093804\n",
            "\tsurprise: 0.011044179421982594\n",
            "\tfear: 0.001700846472799423\n",
            "\tdisgust: 0.0019916097627997046\n",
            "\tjoy: 0.14860264646510282\n",
            "\tothers: 0.8280918314343407\n",
            "AD:\n",
            "\tsadness: 0.005251531904962446\n",
            "\tanger: 0.003645018400025687\n",
            "\tsurprise: 0.008812520032127699\n",
            "\tfear: 0.0016029904363676906\n",
            "\tdisgust: 0.0016891873646749272\n",
            "\tjoy: 0.22624066627273956\n",
            "\tothers: 0.7527580688751879\n"
          ]
        },
        {
          "output_type": "display_data",
          "data": {
            "text/plain": [
              "<Figure size 432x288 with 1 Axes>"
            ],
            "image/png": "[encoded data removed]"
          },
          "metadata": {}
        }
      ]
    },
    {
      "cell_type": "code",
      "source": [
        "train_dataset"
      ],
      "metadata": {
        "id": "tGOr094JB7Op"
      },
      "execution_count": null,
      "outputs": []
    },
    {
      "cell_type": "code",
      "source": [
        "train_dataset.to_csv('emotion_analysis.csv')\n",
        "\"\"\"\n",
        "Esto guarda el dataset en la máquina virtual, recuerda descargar el archivo a mano.\n",
        "\"\"\""
      ],
      "metadata": {
        "id": "25bhovsn9SBK",
        "colab": {
          "base_uri": "https://localhost:8080/",
          "height": 37
        },
        "outputId": "eb825e2e-2d0c-46b8-e3e2-422ba648497d"
      },
      "execution_count": null,
      "outputs": [
        {
          "output_type": "execute_result",
          "data": {
            "text/plain": [
              "'\\nEsto guarda el dataset en la máquina virtual, recuerda descargar el archivo a mano.\\n'"
            ],
            "application/vnd.google.colaboratory.intrinsic+json": {
              "type": "string"
            }
          },
          "metadata": {},
          "execution_count": 52
        }
      ]
    }
  ],
  "metadata": {
    "colab": {
      "provenance": [],
      "collapsed_sections": [
        "MumnpknxLhB9"
      ],
      "include_colab_link": true
    },
    "gpuClass": "standard",
    "kernelspec": {
      "display_name": "Python 3",
      "name": "python3"
    },
    "language_info": {
      "name": "python"
    }
  },
  "nbformat": 4,
  "nbformat_minor": 0
}